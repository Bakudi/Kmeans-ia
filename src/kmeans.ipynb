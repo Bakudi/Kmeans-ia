{
 "cells": [
  {
   "cell_type": "code",
   "execution_count": null,
   "id": "5187e3b1",
   "metadata": {},
   "outputs": [],
   "source": [
    "# --- 1. Importación de librerías ---\n",
    "import pandas as pd\n",
    "import matplotlib.pyplot as plt\n",
    "import seaborn as sns\n",
    "from sklearn.cluster import KMeans\n",
    "from sklearn.preprocessing import StandardScaler\n",
    "from sklearn.decomposition import PCA"
   ]
  },
  {
   "cell_type": "code",
   "execution_count": null,
   "id": "29af93ef",
   "metadata": {},
   "outputs": [],
   "source": [
    "# --- 2. Carga de datos ---\n",
    "df = pd.read_csv('Pokemon.csv')\n",
    "print(\"Columnas del dataset:\")\n",
    "print(df.columns)\n"
   ]
  },
  {
   "cell_type": "code",
   "execution_count": null,
   "id": "c5d7175a",
   "metadata": {},
   "outputs": [],
   "source": [
    "# --- 3. Selección de estadísticas relevantes ---\n",
    "stats_cols = ['HP', 'Attack', 'Defense', 'Sp. Atk', 'Sp. Def', 'Speed']\n",
    "df_stats = df[stats_cols]\n"
   ]
  },
  {
   "cell_type": "code",
   "execution_count": null,
   "id": "7d6dd822",
   "metadata": {},
   "outputs": [],
   "source": [
    "# --- 4. Normalización de datos ---\n",
    "scaler = StandardScaler()\n",
    "scaled_stats = scaler.fit_transform(df_stats)\n"
   ]
  },
  {
   "cell_type": "code",
   "execution_count": null,
   "id": "912bac5a",
   "metadata": {},
   "outputs": [],
   "source": [
    "# --- 5. Aplicación de K-Means ---\n",
    "kmeans = KMeans(n_clusters=4, random_state=42)\n",
    "df['Cluster'] = kmeans.fit_predict(scaled_stats)"
   ]
  },
  {
   "cell_type": "code",
   "execution_count": null,
   "id": "7fb5476e",
   "metadata": {},
   "outputs": [],
   "source": [
    "# --- 6. Reducción de dimensionalidad con PCA ---\n",
    "pca = PCA(n_components=2)\n",
    "pca_components = pca.fit_transform(scaled_stats)\n",
    "df['PCA1'] = pca_components[:, 0]\n",
    "df['PCA2'] = pca_components[:, 1]"
   ]
  },
  {
   "cell_type": "code",
   "execution_count": null,
   "id": "45cf5f27",
   "metadata": {},
   "outputs": [],
   "source": [
    "# --- 7. Visualización 2D de clusters ---\n",
    "plt.figure(figsize=(10, 7))\n",
    "sns.scatterplot(data=df, x='PCA1', y='PCA2', hue='Cluster', palette='Set2', s=100)\n",
    "plt.title(\"Clusters de Pokémon (PCA + K-Means)\")\n",
    "plt.xlabel(\"PCA 1\")\n",
    "plt.ylabel(\"PCA 2\")\n",
    "plt.legend(title='Cluster')\n",
    "plt.show()"
   ]
  },
  {
   "cell_type": "code",
   "execution_count": null,
   "id": "a5084f3a",
   "metadata": {},
   "outputs": [],
   "source": [
    "# --- 8. Análisis estadístico por cluster ---\n",
    "cluster_summary = df.groupby('Cluster')[stats_cols].mean().round(1)\n",
    "print(\"Resumen estadístico por cluster:\")\n",
    "print(cluster_summary)"
   ]
  },
  {
   "cell_type": "code",
   "execution_count": null,
   "id": "2dc560e4",
   "metadata": {},
   "outputs": [],
   "source": [
    "# --- 9. Asignar nombres creativos a los clusters ---\n",
    "cluster_names = {\n",
    "    0: 'Tanques Estratégicos',\n",
    "    1: 'Cañones de Cristal',\n",
    "    2: 'Equilibrados',\n",
    "    3: 'Velocistas Frágiles'\n",
    "}\n",
    "df['ClusterName'] = df['Cluster'].map(cluster_names)"
   ]
  },
  {
   "cell_type": "code",
   "execution_count": null,
   "id": "77822e51",
   "metadata": {},
   "outputs": [],
   "source": [
    "# --- 10. Heatmap comparativo de stats ---\n",
    "plt.figure(figsize=(10, 6))\n",
    "sns.heatmap(cluster_summary, annot=True, cmap='YlGnBu', cbar_kws={'label': 'Promedio'})\n",
    "plt.title(\"Estadísticas promedio por Cluster\")\n",
    "plt.show()"
   ]
  },
  {
   "cell_type": "code",
   "execution_count": null,
   "id": "ef6bae7d",
   "metadata": {},
   "outputs": [],
   "source": [
    "# --- 11. Análisis detallado de cada cluster ---\n",
    "for i, row in cluster_summary.iterrows():\n",
    "    print(f\"\\nCluster {i} - {cluster_names[i]}\")\n",
    "    print(row.sort_values(ascending=False))"
   ]
  },
  {
   "cell_type": "code",
   "execution_count": null,
   "id": "85261701",
   "metadata": {},
   "outputs": [],
   "source": [
    "# --- 12. Visualización adicional: distribución de tipos por cluster ---\n",
    "plt.figure(figsize=(12, 6))\n",
    "cluster_types = df.groupby('Cluster')['Type 1'].value_counts().unstack().fillna(0)\n",
    "cluster_types.plot(kind='bar', stacked=True, colormap='Set3', figsize=(12, 6))\n",
    "plt.title(\"Distribución de Tipos por Cluster\")\n",
    "plt.xlabel(\"Cluster\")\n",
    "plt.ylabel(\"Cantidad de Pokémon\")\n",
    "plt.legend(title='Tipo')\n",
    "plt.show()"
   ]
  },
  {
   "cell_type": "code",
   "execution_count": null,
   "id": "4f2367d5",
   "metadata": {},
   "outputs": [],
   "source": [
    "# --- 13. ¿Dónde están los Pokémon legendarios? ---\n",
    "legendary_distribution = df.groupby(['Cluster', 'Legendary']).size().unstack(fill_value=0)\n",
    "print(\"\\nDistribución de Pokémon legendarios por cluster:\")\n",
    "print(legendary_distribution)"
   ]
  }
 ],
 "metadata": {
  "language_info": {
   "name": "python"
  }
 },
 "nbformat": 4,
 "nbformat_minor": 5
}
